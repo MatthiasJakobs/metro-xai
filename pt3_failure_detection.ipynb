{
 "cells": [
  {
   "cell_type": "code",
   "execution_count": 1,
   "metadata": {},
   "outputs": [],
   "source": [
    "from generate_chunks import load_data\n",
    "from train_models import ModelTrainer\n",
    "from failure_detection import detect_failures, failure_list_to_interval, print_failures, collate_intervals, extreme_anomaly, simple_lowpass_filter\n",
    "import matplotlib.pyplot as plt\n",
    "import plotly.express as px\n",
    "import numpy as np\n",
    "\n",
    "train_chunks, training_chunk_dates, test_chunks, test_chunk_dates = load_data(version=3)\n"
   ]
  },
  {
   "cell_type": "code",
   "execution_count": 14,
   "metadata": {},
   "outputs": [],
   "source": [
    "model = ModelTrainer('configs/PT3_WAE_NOGAN.json').fit()\n",
    "\n",
    "train_errors = model.calc_loss(train_chunks, train_chunks, average=False).mean(axis=(1,2))\n",
    "test_errors = model.calc_loss(test_chunks, test_chunks, average=False).mean(axis=(1,2))\n"
   ]
  },
  {
   "cell_type": "code",
   "execution_count": 15,
   "metadata": {},
   "outputs": [
    {
     "name": "stdout",
     "output_type": "stream",
     "text": [
      "Detected failures\n",
      "[2020-04-06 11:52:19, 2020-04-06 15:16:18]\n",
      "[2020-04-12 13:13:08, 2020-04-13 00:37:07]\n",
      "[2020-04-18 01:43:36, 2020-04-19 04:11:20]\n",
      "[2020-05-13 14:52:08, 2020-05-14 05:54:39]\n",
      "[2020-05-19 06:09:45, 2020-05-21 06:36:53]\n",
      "[2020-05-30 00:27:27, 2020-05-30 07:08:57]\n",
      "[2020-06-02 19:47:58, 2020-06-02 21:33:41]\n",
      "[2020-06-05 10:57:24, 2020-06-08 15:14:57]\n",
      "[2020-07-08 18:44:55, 2020-07-08 22:18:01]\n",
      "[2020-07-14 02:55:17, 2020-07-17 08:09:23]\n",
      "[2020-07-31 06:18:34, 2020-07-31 06:28:28]\n",
      "Actual failures\n",
      "2020-04-18T00:00:00 2020-04-18T23:59:00\n",
      "2020-05-29T23:30:00 2020-05-30T06:00:00\n",
      "2020-06-05T10:00:00 2020-06-07T14:30:00\n",
      "2020-07-15T14:30:00 2020-07-15T19:00:00\n"
     ]
    },
    {
     "data": {
      "text/plain": [
       "(18353.0, 18475.0)"
      ]
     },
     "execution_count": 15,
     "metadata": {},
     "output_type": "execute_result"
    },
    {
     "data": {
      "image/png": "[encoded data removed]",
      "text/plain": [
       "<Figure size 1200x400 with 1 Axes>"
      ]
     },
     "metadata": {},
     "output_type": "display_data"
    }
   ],
   "source": [
    "anom = extreme_anomaly(train_errors)\n",
    "binary_output = (test_errors > anom).astype(np.int8)\n",
    "\n",
    "output = simple_lowpass_filter(binary_output, 0.06)\n",
    "failures = (output >= 0.5).astype(np.int8)\n",
    "\n",
    "print('Detected failures')\n",
    "print_failures(test_chunk_dates, failures)\n",
    "print('Actual failures')\n",
    "actual_failures = [\n",
    "    (np.datetime64('2020-04-18T00:00:00'), np.datetime64('2020-04-18T23:59:00')),\n",
    "    (np.datetime64('2020-05-29T23:30:00'), np.datetime64('2020-05-30T06:00:00')),\n",
    "    (np.datetime64('2020-06-05T10:00:00'), np.datetime64('2020-06-07T14:30:00')),\n",
    "    (np.datetime64('2020-07-15T14:30:00'), np.datetime64('2020-07-15T19:00:00')),\n",
    "]\n",
    "plt.figure(figsize=(12, 4))\n",
    "plt.plot(test_chunk_dates[:, 1], failures)\n",
    "for (start, end) in actual_failures:\n",
    "    print(start, end)\n",
    "    plt.axvspan(start, end, color='black', alpha=0.3)\n",
    "\n",
    "plt.xlim(test_chunk_dates[0][0], np.datetime64('2020-08-01T00:00:00'))"
   ]
  },
  {
   "cell_type": "markdown",
   "metadata": {},
   "source": [
    "# Are the decision rules from PT2 transferable?"
   ]
  },
  {
   "cell_type": "code",
   "execution_count": 9,
   "metadata": {},
   "outputs": [
    {
     "name": "stdout",
     "output_type": "stream",
     "text": [
      "after first rule (array([0], dtype=int8), array([72226]))\n",
      "after all rules (array([0, 1], dtype=int8), array([71775,   451]))\n"
     ]
    }
   ],
   "source": [
    "import pickle\n",
    "import numpy as np\n",
    "\n",
    "oil_temperate_idx = 5\n",
    "motor_current_idx = 6\n",
    "\n",
    "with open('data/pt3_train_chunks_unnormalized.pkl', 'rb') as f:\n",
    "    x_raw = pickle.load(f)\n",
    "x_raw = x_raw[..., [oil_temperate_idx, motor_current_idx]]\n",
    "\n",
    "# Transform features\n",
    "min_current = x_raw[..., 1].min(axis=-1)\n",
    "max_temperature = x_raw[..., 0].max(axis=-1)\n",
    "\n",
    "# Apply rules\n",
    "current_thresh = 0.014\n",
    "#tempreature_thresh = 73.487\n",
    "tempreature_thresh = 79\n",
    "failures = (min_current <= current_thresh).astype(np.int8)\n",
    "print('after first rule', np.unique(failures, return_counts=True))\n",
    "failures += np.logical_and(min_current > current_thresh, max_temperature > tempreature_thresh).astype(np.int8)\n",
    "print('after all rules', np.unique(failures, return_counts=True))\n",
    "# print(failures.shape)\n",
    "# print(np.unique(failures, return_counts=True))\n",
    "# print_failures(test_chunk_dates, failures)\n",
    "# print('Actual failures')\n",
    "# print('2020-04-18 00:00:00, 2020-04-18 23:59:00')\n",
    "# print('2020-05-29 23:30:00, 2020-05-30 06:00:00')\n",
    "# print('2020-06-05 10:00:00, 2020-06-07 14:30:00')\n",
    "# print('2020-07-15 14:30:00, 2020-07-15 19:00:00')\n"
   ]
  },
  {
   "cell_type": "code",
   "execution_count": null,
   "metadata": {},
   "outputs": [],
   "source": []
  }
 ],
 "metadata": {
  "kernelspec": {
   "display_name": ".venv",
   "language": "python",
   "name": "python3"
  },
  "language_info": {
   "codemirror_mode": {
    "name": "ipython",
    "version": 3
   },
   "file_extension": ".py",
   "mimetype": "text/x-python",
   "name": "python",
   "nbconvert_exporter": "python",
   "pygments_lexer": "ipython3",
   "version": "3.10.14"
  }
 },
 "nbformat": 4,
 "nbformat_minor": 2
}
