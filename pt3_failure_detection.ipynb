{
 "cells": [
  {
   "cell_type": "code",
   "execution_count": 1,
   "metadata": {},
   "outputs": [],
   "source": [
    "from generate_chunks import load_data\n",
    "from train_models import ModelTrainer\n",
    "from failure_detection import detect_failures, failure_list_to_interval, print_failures, collate_intervals, extreme_anomaly, simple_lowpass_filter\n",
    "import matplotlib.pyplot as plt\n",
    "import plotly.express as px\n",
    "import numpy as np\n",
    "\n",
    "train_chunks, training_chunk_dates, test_chunks, test_chunk_dates = load_data(version=3)\n"
   ]
  },
  {
   "cell_type": "code",
   "execution_count": 2,
   "metadata": {},
   "outputs": [
    {
     "name": "stdout",
     "output_type": "stream",
     "text": [
      "Detected failures\n",
      "[2020-04-12 13:13:08, 2020-04-13 00:56:56]\n",
      "[2020-04-18 01:38:39, 2020-04-19 04:21:15]\n",
      "[2020-05-13 15:02:03, 2020-05-14 06:14:29]\n",
      "[2020-05-19 23:40:25, 2020-05-21 06:41:50]\n",
      "[2020-05-30 00:32:25, 2020-05-30 07:23:49]\n",
      "[2020-06-05 11:07:18, 2020-06-08 15:24:52]\n",
      "[2020-07-08 18:54:49, 2020-07-08 23:03:38]\n",
      "[2020-07-15 14:30:22, 2020-07-17 06:05:26]\n",
      "Actual failures\n",
      "2020-04-18 00:00:00, 2020-04-18 23:59:00\n",
      "2020-05-29 23:30:00, 2020-05-30 06:00:00\n",
      "2020-06-05 10:00:00, 2020-06-07 14:30:00\n",
      "2020-07-15 14:30:00, 2020-07-15 19:00:00\n"
     ]
    },
    {
     "data": {
      "text/plain": [
       "[<matplotlib.lines.Line2D at 0x337666740>]"
      ]
     },
     "execution_count": 2,
     "metadata": {},
     "output_type": "execute_result"
    },
    {
     "data": {
      "image/png": "[encoded data removed]",
      "text/plain": [
       "<Figure size 640x480 with 1 Axes>"
      ]
     },
     "metadata": {},
     "output_type": "display_data"
    }
   ],
   "source": [
    "model = ModelTrainer('configs/PT3_WAE_NOGAN.json').fit()\n",
    "\n",
    "train_errors = model.calc_loss(train_chunks, train_chunks, average=False).mean(axis=(1,2))\n",
    "test_errors = model.calc_loss(test_chunks, test_chunks, average=False).mean(axis=(1,2))\n",
    "\n",
    "anom = extreme_anomaly(train_errors)\n",
    "binary_output = (test_errors > anom).astype(np.int8)\n",
    "\n",
    "output = simple_lowpass_filter(binary_output, 0.05)\n",
    "failures = (output >= 0.5).astype(np.int8)\n",
    "\n",
    "print('Detected failures')\n",
    "print_failures(test_chunk_dates, failures)\n",
    "print('Actual failures')\n",
    "actual_failures = [\n",
    "    (np.datetime64('2020-04-18 00:00:00'), np.datetime64('2020-04-18 23:59:00')),\n",
    "    (np.datetime64('2020-05-29 23:30:00'), np.datetime64('2020-05-30 06:00:00')),\n",
    "    (np.datetime64('2020-06-05 10:00:00'), np.datetime64('2020-06-07 14:30:00')),\n",
    "    (np.datetime64('2020-07-15 14:30:00'), np.datetime64('2020-07-15 19:00:00')),\n",
    "]\n",
    "\n",
    "plt.figure()\n",
    "plt.plot(test_chunk_dates[:, 1], failures)\n",
    "plt.axvspan()"
   ]
  },
  {
   "cell_type": "markdown",
   "metadata": {},
   "source": [
    "# Are the decision rules from PT2 transferable?"
   ]
  },
  {
   "cell_type": "code",
   "execution_count": 9,
   "metadata": {},
   "outputs": [
    {
     "name": "stdout",
     "output_type": "stream",
     "text": [
      "after first rule (array([0], dtype=int8), array([72226]))\n",
      "after all rules (array([0, 1], dtype=int8), array([71775,   451]))\n"
     ]
    }
   ],
   "source": [
    "import pickle\n",
    "import numpy as np\n",
    "\n",
    "oil_temperate_idx = 5\n",
    "motor_current_idx = 6\n",
    "\n",
    "with open('data/pt3_train_chunks_unnormalized.pkl', 'rb') as f:\n",
    "    x_raw = pickle.load(f)\n",
    "x_raw = x_raw[..., [oil_temperate_idx, motor_current_idx]]\n",
    "\n",
    "# Transform features\n",
    "min_current = x_raw[..., 1].min(axis=-1)\n",
    "max_temperature = x_raw[..., 0].max(axis=-1)\n",
    "\n",
    "# Apply rules\n",
    "current_thresh = 0.014\n",
    "#tempreature_thresh = 73.487\n",
    "tempreature_thresh = 79\n",
    "failures = (min_current <= current_thresh).astype(np.int8)\n",
    "print('after first rule', np.unique(failures, return_counts=True))\n",
    "failures += np.logical_and(min_current > current_thresh, max_temperature > tempreature_thresh).astype(np.int8)\n",
    "print('after all rules', np.unique(failures, return_counts=True))\n",
    "# print(failures.shape)\n",
    "# print(np.unique(failures, return_counts=True))\n",
    "# print_failures(test_chunk_dates, failures)\n",
    "# print('Actual failures')\n",
    "# print('2020-04-18 00:00:00, 2020-04-18 23:59:00')\n",
    "# print('2020-05-29 23:30:00, 2020-05-30 06:00:00')\n",
    "# print('2020-06-05 10:00:00, 2020-06-07 14:30:00')\n",
    "# print('2020-07-15 14:30:00, 2020-07-15 19:00:00')\n"
   ]
  },
  {
   "cell_type": "code",
   "execution_count": null,
   "metadata": {},
   "outputs": [],
   "source": []
  }
 ],
 "metadata": {
  "kernelspec": {
   "display_name": ".venv",
   "language": "python",
   "name": "python3"
  },
  "language_info": {
   "codemirror_mode": {
    "name": "ipython",
    "version": 3
   },
   "file_extension": ".py",
   "mimetype": "text/x-python",
   "name": "python",
   "nbconvert_exporter": "python",
   "pygments_lexer": "ipython3",
   "version": "3.10.14"
  }
 },
 "nbformat": 4,
 "nbformat_minor": 2
}
